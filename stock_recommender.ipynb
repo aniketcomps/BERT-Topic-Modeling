{
 "cells": [
  {
   "cell_type": "markdown",
   "metadata": {
    "id": "4oeKSHU0lyQT"
   },
   "source": [
    "### Stock Recommender based on signals from WallStreetBets"
   ]
  },
  {
   "cell_type": "markdown",
   "metadata": {},
   "source": [
    "#### Get top stocks from WSB for given month"
   ]
  },
  {
   "cell_type": "code",
   "execution_count": null,
   "metadata": {
    "colab": {
     "base_uri": "https://localhost:8080/"
    },
    "id": "ehAowXVIqOm2",
    "outputId": "f6ba5011-6b4c-4687-f4c1-b2c8239b9df0"
   },
   "outputs": [
    {
     "name": "stdout",
     "output_type": "stream",
     "text": [
      "diamond_hands_007\n"
     ]
    }
   ],
   "source": [
    "import praw\n",
    "\n",
    "# Insert your PRAW credentials here \n",
    "reddit = praw.Reddit(\n",
    "    client_id=\"\",\n",
    "    client_secret=\"\",\n",
    "    password=\"\",\n",
    "    user_agent=\"\",\n",
    "    username=\"\",check_for_async=False\n",
    ")\n",
    "print(reddit.user.me())"
   ]
  },
  {
   "cell_type": "code",
   "execution_count": null,
   "metadata": {
    "colab": {
     "base_uri": "https://localhost:8080/"
    },
    "id": "YpWy9UFulsZt",
    "outputId": "f0859326-4496-400d-9680-c2449652e5a2"
   },
   "outputs": [
    {
     "name": "stderr",
     "output_type": "stream",
     "text": [
      "/usr/local/lib/python3.7/dist-packages/ipykernel_launcher.py:19: DeprecationWarning: Positional arguments for 'BaseListingMixin.top' will no longer be supported in PRAW 8.\n",
      "Call this function with 'time_filter' as a keyword argument.\n"
     ]
    }
   ],
   "source": [
    "def get_stock_list():\n",
    "    ticker_dict = {}\n",
    "    filelist = ['/content/drive/MyDrive/unstructured_project/ticker_list/list1.csv', \n",
    "                '/content/drive/MyDrive/unstructured_project/ticker_list/list2.csv',\n",
    "                '/content/drive/MyDrive/unstructured_project/ticker_list/list3.csv']\n",
    "    for file in filelist:\n",
    "        tl = pd.read_csv(file, skiprows=0, skip_blank_lines=True)\n",
    "        tl = tl[tl.columns[0]].tolist()\n",
    "        for ticker in tl:\n",
    "            ticker_dict[ticker] = 1\n",
    "    return ticker_dict\n",
    "\n",
    "def get_tickers(sub, stockList):\n",
    "    monthlyTickers = {}\n",
    "    regexPattern = r'\\b([A-Z]+)\\b'\n",
    "    tickerDict = stockList\n",
    "    blacklist = [\"A\", \"I\", \"DD\", \"WSB\", \"YOLO\", \"RH\", \"EV\", \"PE\", \"ETH\", \"BTC\", \"E\"] \n",
    "    for submission in reddit.subreddit(sub).top(\"month\"):\n",
    "        strings = [submission.title]\n",
    "        submission.comments.replace_more(limit=0)\n",
    "        for comment in submission.comments.list():\n",
    "            strings.append(comment.body)\n",
    "        for s in strings:\n",
    "            for phrase in re.findall(regexPattern, s):\n",
    "                if phrase not in blacklist:\n",
    "                    if phrase in tickerDict:\n",
    "                        if phrase not in monthlyTickers:\n",
    "                            monthlyTickers[phrase] = 1\n",
    "                        else:\n",
    "                            monthlyTickers[phrase] += 1\n",
    "    return monthlyTickers\n",
    "\n",
    "stockList = get_stock_list()\n",
    "topTickers = {}\n",
    "for sub in ['wallstreetbets']:\n",
    "    monthlyTickers = get_tickers(sub, stockList)\n",
    "    for ticker in monthlyTickers.keys():\n",
    "        if ticker in topTickers:\n",
    "            topTickers[ticker] += monthlyTickers[ticker]\n",
    "        else:\n",
    "            topTickers[ticker] = monthlyTickers[ticker]"
   ]
  },
  {
   "cell_type": "code",
   "execution_count": null,
   "metadata": {
    "id": "izl-tRkbrJm3"
   },
   "outputs": [],
   "source": [
    "ticker_freq = pd.DataFrame(sorted(topTickers.items(), key=lambda x: x[1], reverse=True))\n",
    "ticker_freq.columns = ['ticker', 'tf']\n",
    "ticker_freq.to_csv('data/top_tickers_30days.csv')\n",
    "ticker_freq = pd.read_csv('data/top_tickers_30days.csv', index_col=0)"
   ]
  },
  {
   "cell_type": "code",
   "execution_count": null,
   "metadata": {
    "id": "0GuEPdq8z1Zo"
   },
   "outputs": [],
   "source": [
    "# Filter out single character tickers\n",
    "ticker_freq = ticker_freq[ticker_freq['ticker'].apply(lambda x:len(x) > 1)]"
   ]
  },
  {
   "cell_type": "code",
   "execution_count": null,
   "metadata": {
    "id": "G074aW_o0TG1"
   },
   "outputs": [],
   "source": [
    "# Manually removing some unwanted words that will not be tickers\n",
    "set_tickers = set(ticker_freq[:50]['ticker'].tolist()).difference(set(['FOR', ' U', 'ALL', 'CAN', 'EDIT', 'GDP', 'CEO', 'CFO', 'NYC', 'ARE', 'FSD', 'NOW', 'IMO', 'USA', 'USB', 'QQQ', 'ONE',\n",
    "                                                         'MSM', 'JOE', 'IRS', 'ANY', 'ATH', 'BOOM', 'UK']))\n",
    "ticker_freq = ticker_freq[ticker_freq['ticker'].isin(list(set_tickers))]"
   ]
  },
  {
   "cell_type": "markdown",
   "metadata": {
    "id": "L96FL4FlebTj"
   },
   "source": [
    "### Perform Sentiment Analysis on scraped posts and comments"
   ]
  },
  {
   "cell_type": "code",
   "execution_count": null,
   "metadata": {
    "colab": {
     "base_uri": "https://localhost:8080/"
    },
    "id": "o-mo90gPeZlg",
    "outputId": "a6408bf1-72bc-4163-8411-6f8aa5375cc2"
   },
   "outputs": [
    {
     "name": "stderr",
     "output_type": "stream",
     "text": [
      "[nltk_data] Downloading package vader_lexicon to /root/nltk_data...\n",
      "[nltk_data]   Package vader_lexicon is already up-to-date!\n"
     ]
    },
    {
     "data": {
      "text/plain": [
       "True"
      ]
     },
     "execution_count": 196,
     "metadata": {},
     "output_type": "execute_result"
    }
   ],
   "source": [
    "import praw\n",
    "import pandas as pd\n",
    "import os\n",
    "import datetime\n",
    "import requests\n",
    "from nltk.sentiment.vader import SentimentIntensityAnalyzer\n",
    "import nltk\n",
    "nltk.download('vader_lexicon')"
   ]
  },
  {
   "cell_type": "code",
   "execution_count": null,
   "metadata": {
    "id": "sraE3yXveh36"
   },
   "outputs": [],
   "source": [
    "wsb = reddit.subreddit('wallstreetbets')"
   ]
  },
  {
   "cell_type": "markdown",
   "metadata": {},
   "source": [
    "Common WSB WSB slang/terminology and associated sentiments added below. These lexicons are assigned based on the topic modelling we did. Essentially its a bear market so the negative sentiment is prevalent."
   ]
  },
  {
   "cell_type": "code",
   "execution_count": null,
   "metadata": {
    "id": "x_bRLRKbejaF"
   },
   "outputs": [],
   "source": [
    "wsb_words = {\n",
    "    'tendies': 2.0,\n",
    "    'bull': 2.0,\n",
    "    'bear': -10.0,\n",
    "    'short': -10.0,\n",
    "    'sell': -10.0,\n",
    "    'puts': -10.0,\n",
    "    'calls': 2.0,\n",
    "    'moon': 2.0,\n",
    "    'btfd': 2.0,\n",
    "    'going tits up': -10.0,\n",
    "}"
   ]
  },
  {
   "cell_type": "code",
   "execution_count": null,
   "metadata": {
    "id": "t1cDA9gceld_"
   },
   "outputs": [],
   "source": [
    "def get_sentiment(df_col, words=wsb_words):\n",
    "\n",
    "    # initializes VADER\n",
    "    vader = SentimentIntensityAnalyzer()\n",
    "\n",
    "    # updates VADER's lexicon to include WSB terminology\n",
    "    vader.lexicon.update(wsb_words)\n",
    "\n",
    "    # analyzes sentiment of dataframe column input\n",
    "    scores = df_col.apply(vader.polarity_scores).tolist()\n",
    "    return pd.DataFrame(scores)\n",
    "\n",
    "def get_date(submission):\n",
    "    \n",
    "    # gets submission datetime\n",
    "    try:\n",
    "        time = submission.created\n",
    "    except: \n",
    "        time = submission\n",
    "    return datetime.date.fromtimestamp(time)\n",
    "\n",
    "def scrape_for(symbol, limit=10, before='', after='30d', subreddit='wallstreetbets'): #considered 30 days as this will take data from 1st september to date, if we want to look at a wider timeframe, change here\n",
    "    result = []\n",
    "    url_for_comment = 'https://api.pushshift.io/reddit/search/comment/?q={0}&subreddit={1}&after={2}&size={3}&before={4}&sort_type=score'.format(symbol, subreddit, after, limit, before)\n",
    "    comments = requests.get(url_for_comment).json()['data']\n",
    "\n",
    "    url_for_submission = 'https://api.pushshift.io/reddit/search/submission/?q={0}&subreddit={1}&after={2}&size={3}&before={4}&sort_type=score'.format(symbol, subreddit, after, limit, before)\n",
    "    submissions = requests.get(url_for_submission).json()['data']\n",
    "\n",
    "    for comment in comments:\n",
    "        result.append((comment['body'], get_date(comment['created_utc'])))\n",
    "\n",
    "    for submission in submissions:\n",
    "        date = get_date(submission['created_utc'])\n",
    "        try:\n",
    "            result.append((submission['title'] + submission['selftext'], date))\n",
    "        except:\n",
    "            result.append((submission['title'], date))\n",
    "        sub = reddit.submission(id=submission['id'])\n",
    "        sub.comments.replace_more(limit=0)\n",
    "        for top_level_comment in sub.comments:\n",
    "            result.append((top_level_comment.body, date))\n",
    "\n",
    "    # creates a dataframe from API results\n",
    "    df = pd.DataFrame(result, columns=['Text', 'Date'])\n",
    "\n",
    "    # updates dataframe to include sentiments\n",
    "    scored_df = df.join(get_sentiment(df['Text']), rsuffix='_right')\n",
    "\n",
    "    return scored_df"
   ]
  },
  {
   "cell_type": "code",
   "execution_count": null,
   "metadata": {
    "id": "e5LJrr3301Nr"
   },
   "outputs": [],
   "source": [
    "# Get compund sentiment for top n stocks from WSB as per VADER sentiment analysis\n",
    "\n",
    "top_n = 5 \n",
    "ticker_freq['compound_sentiment'] = 0\n",
    "for ticker in ticker_freq[:top_n]['ticker'].tolist():\n",
    "  sentiment_total = scrape_for(ticker)\n",
    "  ticker_freq['compound_sentiment'][ticker_freq['ticker'] == ticker] = sentiment_total['compound'].mean()"
   ]
  },
  {
   "cell_type": "code",
   "execution_count": null,
   "metadata": {
    "colab": {
     "base_uri": "https://localhost:8080/",
     "height": 206
    },
    "id": "EgXYQLyuerkd",
    "outputId": "6580ed7f-b010-4aa7-ea40-59e450c9c56c"
   },
   "outputs": [
    {
     "data": {
      "text/html": [
       "\n",
       "  <div id=\"df-0d0f8b74-905c-4d76-9542-8ed5534d6f6e\">\n",
       "    <div class=\"colab-df-container\">\n",
       "      <div>\n",
       "<style scoped>\n",
       "    .dataframe tbody tr th:only-of-type {\n",
       "        vertical-align: middle;\n",
       "    }\n",
       "\n",
       "    .dataframe tbody tr th {\n",
       "        vertical-align: top;\n",
       "    }\n",
       "\n",
       "    .dataframe thead th {\n",
       "        text-align: right;\n",
       "    }\n",
       "</style>\n",
       "<table border=\"1\" class=\"dataframe\">\n",
       "  <thead>\n",
       "    <tr style=\"text-align: right;\">\n",
       "      <th></th>\n",
       "      <th>ticker</th>\n",
       "      <th>tf</th>\n",
       "      <th>compound_sentiment</th>\n",
       "    </tr>\n",
       "  </thead>\n",
       "  <tbody>\n",
       "    <tr>\n",
       "      <th>0</th>\n",
       "      <td>GME</td>\n",
       "      <td>382</td>\n",
       "      <td>0.029451</td>\n",
       "    </tr>\n",
       "    <tr>\n",
       "      <th>2</th>\n",
       "      <td>AI</td>\n",
       "      <td>127</td>\n",
       "      <td>-0.022523</td>\n",
       "    </tr>\n",
       "    <tr>\n",
       "      <th>3</th>\n",
       "      <td>BBBY</td>\n",
       "      <td>101</td>\n",
       "      <td>-0.026281</td>\n",
       "    </tr>\n",
       "    <tr>\n",
       "      <th>5</th>\n",
       "      <td>AMC</td>\n",
       "      <td>90</td>\n",
       "      <td>-0.049026</td>\n",
       "    </tr>\n",
       "    <tr>\n",
       "      <th>6</th>\n",
       "      <td>CS</td>\n",
       "      <td>85</td>\n",
       "      <td>-0.111998</td>\n",
       "    </tr>\n",
       "  </tbody>\n",
       "</table>\n",
       "</div>\n",
       "      <button class=\"colab-df-convert\" onclick=\"convertToInteractive('df-0d0f8b74-905c-4d76-9542-8ed5534d6f6e')\"\n",
       "              title=\"Convert this dataframe to an interactive table.\"\n",
       "              style=\"display:none;\">\n",
       "        \n",
       "  <svg xmlns=\"http://www.w3.org/2000/svg\" height=\"24px\"viewBox=\"0 0 24 24\"\n",
       "       width=\"24px\">\n",
       "    <path d=\"M0 0h24v24H0V0z\" fill=\"none\"/>\n",
       "    <path d=\"M18.56 5.44l.94 2.06.94-2.06 2.06-.94-2.06-.94-.94-2.06-.94 2.06-2.06.94zm-11 1L8.5 8.5l.94-2.06 2.06-.94-2.06-.94L8.5 2.5l-.94 2.06-2.06.94zm10 10l.94 2.06.94-2.06 2.06-.94-2.06-.94-.94-2.06-.94 2.06-2.06.94z\"/><path d=\"M17.41 7.96l-1.37-1.37c-.4-.4-.92-.59-1.43-.59-.52 0-1.04.2-1.43.59L10.3 9.45l-7.72 7.72c-.78.78-.78 2.05 0 2.83L4 21.41c.39.39.9.59 1.41.59.51 0 1.02-.2 1.41-.59l7.78-7.78 2.81-2.81c.8-.78.8-2.07 0-2.86zM5.41 20L4 18.59l7.72-7.72 1.47 1.35L5.41 20z\"/>\n",
       "  </svg>\n",
       "      </button>\n",
       "      \n",
       "  <style>\n",
       "    .colab-df-container {\n",
       "      display:flex;\n",
       "      flex-wrap:wrap;\n",
       "      gap: 12px;\n",
       "    }\n",
       "\n",
       "    .colab-df-convert {\n",
       "      background-color: #E8F0FE;\n",
       "      border: none;\n",
       "      border-radius: 50%;\n",
       "      cursor: pointer;\n",
       "      display: none;\n",
       "      fill: #1967D2;\n",
       "      height: 32px;\n",
       "      padding: 0 0 0 0;\n",
       "      width: 32px;\n",
       "    }\n",
       "\n",
       "    .colab-df-convert:hover {\n",
       "      background-color: #E2EBFA;\n",
       "      box-shadow: 0px 1px 2px rgba(60, 64, 67, 0.3), 0px 1px 3px 1px rgba(60, 64, 67, 0.15);\n",
       "      fill: #174EA6;\n",
       "    }\n",
       "\n",
       "    [theme=dark] .colab-df-convert {\n",
       "      background-color: #3B4455;\n",
       "      fill: #D2E3FC;\n",
       "    }\n",
       "\n",
       "    [theme=dark] .colab-df-convert:hover {\n",
       "      background-color: #434B5C;\n",
       "      box-shadow: 0px 1px 3px 1px rgba(0, 0, 0, 0.15);\n",
       "      filter: drop-shadow(0px 1px 2px rgba(0, 0, 0, 0.3));\n",
       "      fill: #FFFFFF;\n",
       "    }\n",
       "  </style>\n",
       "\n",
       "      <script>\n",
       "        const buttonEl =\n",
       "          document.querySelector('#df-0d0f8b74-905c-4d76-9542-8ed5534d6f6e button.colab-df-convert');\n",
       "        buttonEl.style.display =\n",
       "          google.colab.kernel.accessAllowed ? 'block' : 'none';\n",
       "\n",
       "        async function convertToInteractive(key) {\n",
       "          const element = document.querySelector('#df-0d0f8b74-905c-4d76-9542-8ed5534d6f6e');\n",
       "          const dataTable =\n",
       "            await google.colab.kernel.invokeFunction('convertToInteractive',\n",
       "                                                     [key], {});\n",
       "          if (!dataTable) return;\n",
       "\n",
       "          const docLinkHtml = 'Like what you see? Visit the ' +\n",
       "            '<a target=\"_blank\" href=https://colab.research.google.com/notebooks/data_table.ipynb>data table notebook</a>'\n",
       "            + ' to learn more about interactive tables.';\n",
       "          element.innerHTML = '';\n",
       "          dataTable['output_type'] = 'display_data';\n",
       "          await google.colab.output.renderOutput(dataTable, element);\n",
       "          const docLink = document.createElement('div');\n",
       "          docLink.innerHTML = docLinkHtml;\n",
       "          element.appendChild(docLink);\n",
       "        }\n",
       "      </script>\n",
       "    </div>\n",
       "  </div>\n",
       "  "
      ],
      "text/plain": [
       "  ticker   tf  compound_sentiment\n",
       "0    GME  382            0.029451\n",
       "2     AI  127           -0.022523\n",
       "3   BBBY  101           -0.026281\n",
       "5    AMC   90           -0.049026\n",
       "6     CS   85           -0.111998"
      ]
     },
     "execution_count": 219,
     "metadata": {},
     "output_type": "execute_result"
    }
   ],
   "source": [
    "# sentiment for top n stocks (over last 30 days)\n",
    "ticker_freq[:top_n]"
   ]
  },
  {
   "cell_type": "code",
   "execution_count": null,
   "metadata": {
    "colab": {
     "base_uri": "https://localhost:8080/"
    },
    "id": "4uOfpDOIfhym",
    "outputId": "3e3756df-b1b2-4d93-ebed-82fc6f3f82f4"
   },
   "outputs": [
    {
     "data": {
      "text/plain": [
       "-0.04046829268292681"
      ]
     },
     "execution_count": 220,
     "metadata": {},
     "output_type": "execute_result"
    }
   ],
   "source": [
    "# dollar has almost neutral\n",
    "sentiment_total = scrape_for('USD')\n",
    "sentiment_total['compound'].mean()"
   ]
  },
  {
   "cell_type": "code",
   "execution_count": null,
   "metadata": {
    "colab": {
     "base_uri": "https://localhost:8080/"
    },
    "id": "eyXxremSft_Q",
    "outputId": "f04449a2-6df7-4ea5-9119-24076b8ad00b"
   },
   "outputs": [
    {
     "data": {
      "text/plain": [
       "-0.136907"
      ]
     },
     "execution_count": 221,
     "metadata": {},
     "output_type": "execute_result"
    }
   ],
   "source": [
    "# pound has a negative sentiment\n",
    "sentiment_total = scrape_for('sterling')\n",
    "sentiment_total['compound'].mean()"
   ]
  },
  {
   "cell_type": "markdown",
   "metadata": {
    "id": "qmAoOFch9yZZ"
   },
   "source": [
    "### Stock Simulator - analysis in restrospect"
   ]
  },
  {
   "cell_type": "code",
   "execution_count": null,
   "metadata": {
    "id": "W24_-Y5992Rv"
   },
   "outputs": [],
   "source": [
    "# Get top_n recommended stocks as per the WallStreetBets sentiment\n",
    "\n",
    "top_n = 10\n",
    "ticker_freq['compound_sentiment'] = 0\n",
    "ticker_freq['compound_sentiment_1month_back'] = 0\n",
    "ticker_freq['compound_sentiment_2months_back'] = 0\n",
    "for ticker in ticker_freq[:top_n]['ticker'].tolist():\n",
    "  sentiment_total = scrape_for(ticker, after='90d', before='60d') #3 months back with 1 month data\n",
    "  ticker_freq['compound_sentiment_2months_back'][ticker_freq['ticker'] == ticker] = sentiment_total['compound'].mean()\n",
    "  sentiment_total = scrape_for(ticker, after='60d', before='30d') #2 months back with 1 month data\n",
    "  ticker_freq['compound_sentiment_1month_back'][ticker_freq['ticker'] == ticker] = sentiment_total['compound'].mean()\n",
    "  sentiment_total = scrape_for(ticker) #1 months back with 1 month data\n",
    "  ticker_freq['compound_sentiment'][ticker_freq['ticker'] == ticker] = sentiment_total['compound'].mean()"
   ]
  },
  {
   "cell_type": "code",
   "execution_count": null,
   "metadata": {
    "colab": {
     "base_uri": "https://localhost:8080/",
     "height": 363
    },
    "id": "4d24XXphDR1X",
    "outputId": "2071cd48-ca1d-4ab4-c453-23c79c96c247"
   },
   "outputs": [
    {
     "data": {
      "text/html": [
       "\n",
       "  <div id=\"df-8559e8fd-4e2c-4394-b3e7-2834bfb262b6\">\n",
       "    <div class=\"colab-df-container\">\n",
       "      <div>\n",
       "<style scoped>\n",
       "    .dataframe tbody tr th:only-of-type {\n",
       "        vertical-align: middle;\n",
       "    }\n",
       "\n",
       "    .dataframe tbody tr th {\n",
       "        vertical-align: top;\n",
       "    }\n",
       "\n",
       "    .dataframe thead th {\n",
       "        text-align: right;\n",
       "    }\n",
       "</style>\n",
       "<table border=\"1\" class=\"dataframe\">\n",
       "  <thead>\n",
       "    <tr style=\"text-align: right;\">\n",
       "      <th></th>\n",
       "      <th>ticker</th>\n",
       "      <th>tf</th>\n",
       "      <th>compound_sentiment</th>\n",
       "      <th>compound_sentiment_1month_back</th>\n",
       "      <th>compound_sentiment_2months_back</th>\n",
       "    </tr>\n",
       "  </thead>\n",
       "  <tbody>\n",
       "    <tr>\n",
       "      <th>0</th>\n",
       "      <td>GME</td>\n",
       "      <td>382</td>\n",
       "      <td>0.029451</td>\n",
       "      <td>-0.034960</td>\n",
       "      <td>-0.035763</td>\n",
       "    </tr>\n",
       "    <tr>\n",
       "      <th>2</th>\n",
       "      <td>AI</td>\n",
       "      <td>127</td>\n",
       "      <td>-0.022523</td>\n",
       "      <td>0.094232</td>\n",
       "      <td>0.144990</td>\n",
       "    </tr>\n",
       "    <tr>\n",
       "      <th>3</th>\n",
       "      <td>BBBY</td>\n",
       "      <td>101</td>\n",
       "      <td>-0.026281</td>\n",
       "      <td>0.007149</td>\n",
       "      <td>-0.000798</td>\n",
       "    </tr>\n",
       "    <tr>\n",
       "      <th>5</th>\n",
       "      <td>AMC</td>\n",
       "      <td>90</td>\n",
       "      <td>-0.049026</td>\n",
       "      <td>0.004049</td>\n",
       "      <td>0.056591</td>\n",
       "    </tr>\n",
       "    <tr>\n",
       "      <th>6</th>\n",
       "      <td>CS</td>\n",
       "      <td>85</td>\n",
       "      <td>-0.111998</td>\n",
       "      <td>0.149132</td>\n",
       "      <td>0.096831</td>\n",
       "    </tr>\n",
       "    <tr>\n",
       "      <th>9</th>\n",
       "      <td>TSLA</td>\n",
       "      <td>63</td>\n",
       "      <td>-0.011124</td>\n",
       "      <td>-0.082407</td>\n",
       "      <td>-0.052972</td>\n",
       "    </tr>\n",
       "    <tr>\n",
       "      <th>14</th>\n",
       "      <td>IT</td>\n",
       "      <td>44</td>\n",
       "      <td>-0.094143</td>\n",
       "      <td>-0.041592</td>\n",
       "      <td>-0.036135</td>\n",
       "    </tr>\n",
       "    <tr>\n",
       "      <th>18</th>\n",
       "      <td>NVDA</td>\n",
       "      <td>37</td>\n",
       "      <td>-0.062092</td>\n",
       "      <td>-0.078903</td>\n",
       "      <td>0.043307</td>\n",
       "    </tr>\n",
       "    <tr>\n",
       "      <th>19</th>\n",
       "      <td>GM</td>\n",
       "      <td>36</td>\n",
       "      <td>0.045823</td>\n",
       "      <td>0.184702</td>\n",
       "      <td>-0.107337</td>\n",
       "    </tr>\n",
       "    <tr>\n",
       "      <th>23</th>\n",
       "      <td>AMD</td>\n",
       "      <td>34</td>\n",
       "      <td>-0.007595</td>\n",
       "      <td>-0.032588</td>\n",
       "      <td>-0.009890</td>\n",
       "    </tr>\n",
       "  </tbody>\n",
       "</table>\n",
       "</div>\n",
       "      <button class=\"colab-df-convert\" onclick=\"convertToInteractive('df-8559e8fd-4e2c-4394-b3e7-2834bfb262b6')\"\n",
       "              title=\"Convert this dataframe to an interactive table.\"\n",
       "              style=\"display:none;\">\n",
       "        \n",
       "  <svg xmlns=\"http://www.w3.org/2000/svg\" height=\"24px\"viewBox=\"0 0 24 24\"\n",
       "       width=\"24px\">\n",
       "    <path d=\"M0 0h24v24H0V0z\" fill=\"none\"/>\n",
       "    <path d=\"M18.56 5.44l.94 2.06.94-2.06 2.06-.94-2.06-.94-.94-2.06-.94 2.06-2.06.94zm-11 1L8.5 8.5l.94-2.06 2.06-.94-2.06-.94L8.5 2.5l-.94 2.06-2.06.94zm10 10l.94 2.06.94-2.06 2.06-.94-2.06-.94-.94-2.06-.94 2.06-2.06.94z\"/><path d=\"M17.41 7.96l-1.37-1.37c-.4-.4-.92-.59-1.43-.59-.52 0-1.04.2-1.43.59L10.3 9.45l-7.72 7.72c-.78.78-.78 2.05 0 2.83L4 21.41c.39.39.9.59 1.41.59.51 0 1.02-.2 1.41-.59l7.78-7.78 2.81-2.81c.8-.78.8-2.07 0-2.86zM5.41 20L4 18.59l7.72-7.72 1.47 1.35L5.41 20z\"/>\n",
       "  </svg>\n",
       "      </button>\n",
       "      \n",
       "  <style>\n",
       "    .colab-df-container {\n",
       "      display:flex;\n",
       "      flex-wrap:wrap;\n",
       "      gap: 12px;\n",
       "    }\n",
       "\n",
       "    .colab-df-convert {\n",
       "      background-color: #E8F0FE;\n",
       "      border: none;\n",
       "      border-radius: 50%;\n",
       "      cursor: pointer;\n",
       "      display: none;\n",
       "      fill: #1967D2;\n",
       "      height: 32px;\n",
       "      padding: 0 0 0 0;\n",
       "      width: 32px;\n",
       "    }\n",
       "\n",
       "    .colab-df-convert:hover {\n",
       "      background-color: #E2EBFA;\n",
       "      box-shadow: 0px 1px 2px rgba(60, 64, 67, 0.3), 0px 1px 3px 1px rgba(60, 64, 67, 0.15);\n",
       "      fill: #174EA6;\n",
       "    }\n",
       "\n",
       "    [theme=dark] .colab-df-convert {\n",
       "      background-color: #3B4455;\n",
       "      fill: #D2E3FC;\n",
       "    }\n",
       "\n",
       "    [theme=dark] .colab-df-convert:hover {\n",
       "      background-color: #434B5C;\n",
       "      box-shadow: 0px 1px 3px 1px rgba(0, 0, 0, 0.15);\n",
       "      filter: drop-shadow(0px 1px 2px rgba(0, 0, 0, 0.3));\n",
       "      fill: #FFFFFF;\n",
       "    }\n",
       "  </style>\n",
       "\n",
       "      <script>\n",
       "        const buttonEl =\n",
       "          document.querySelector('#df-8559e8fd-4e2c-4394-b3e7-2834bfb262b6 button.colab-df-convert');\n",
       "        buttonEl.style.display =\n",
       "          google.colab.kernel.accessAllowed ? 'block' : 'none';\n",
       "\n",
       "        async function convertToInteractive(key) {\n",
       "          const element = document.querySelector('#df-8559e8fd-4e2c-4394-b3e7-2834bfb262b6');\n",
       "          const dataTable =\n",
       "            await google.colab.kernel.invokeFunction('convertToInteractive',\n",
       "                                                     [key], {});\n",
       "          if (!dataTable) return;\n",
       "\n",
       "          const docLinkHtml = 'Like what you see? Visit the ' +\n",
       "            '<a target=\"_blank\" href=https://colab.research.google.com/notebooks/data_table.ipynb>data table notebook</a>'\n",
       "            + ' to learn more about interactive tables.';\n",
       "          element.innerHTML = '';\n",
       "          dataTable['output_type'] = 'display_data';\n",
       "          await google.colab.output.renderOutput(dataTable, element);\n",
       "          const docLink = document.createElement('div');\n",
       "          docLink.innerHTML = docLinkHtml;\n",
       "          element.appendChild(docLink);\n",
       "        }\n",
       "      </script>\n",
       "    </div>\n",
       "  </div>\n",
       "  "
      ],
      "text/plain": [
       "   ticker   tf  compound_sentiment  compound_sentiment_1month_back  \\\n",
       "0     GME  382            0.029451                       -0.034960   \n",
       "2      AI  127           -0.022523                        0.094232   \n",
       "3    BBBY  101           -0.026281                        0.007149   \n",
       "5     AMC   90           -0.049026                        0.004049   \n",
       "6      CS   85           -0.111998                        0.149132   \n",
       "9    TSLA   63           -0.011124                       -0.082407   \n",
       "14     IT   44           -0.094143                       -0.041592   \n",
       "18   NVDA   37           -0.062092                       -0.078903   \n",
       "19     GM   36            0.045823                        0.184702   \n",
       "23    AMD   34           -0.007595                       -0.032588   \n",
       "\n",
       "    compound_sentiment_2months_back  \n",
       "0                         -0.035763  \n",
       "2                          0.144990  \n",
       "3                         -0.000798  \n",
       "5                          0.056591  \n",
       "6                          0.096831  \n",
       "9                         -0.052972  \n",
       "14                        -0.036135  \n",
       "18                         0.043307  \n",
       "19                        -0.107337  \n",
       "23                        -0.009890  "
      ]
     },
     "execution_count": 227,
     "metadata": {},
     "output_type": "execute_result"
    }
   ],
   "source": [
    "ticker_freq[:top_n]"
   ]
  },
  {
   "cell_type": "code",
   "execution_count": null,
   "metadata": {
    "colab": {
     "base_uri": "https://localhost:8080/"
    },
    "id": "25pC9dzzEkpd",
    "outputId": "11b78fe2-8a73-4922-bb8a-efe23b9d9f99"
   },
   "outputs": [
    {
     "name": "stdout",
     "output_type": "stream",
     "text": [
      "           ticker      close\n",
      "2022-07-01    GME  34.009998\n",
      "2022-08-01    GME  28.639999\n",
      "2022-09-01    GME  25.129999\n",
      "           ticker  close\n",
      "2022-07-01     AI  18.41\n",
      "2022-08-01     AI  18.00\n",
      "2022-09-01     AI  12.50\n",
      "           ticker  close\n",
      "2022-07-01   BBBY   5.03\n",
      "2022-08-01   BBBY   9.53\n",
      "2022-09-01   BBBY   6.09\n",
      "           ticker  close\n",
      "2022-07-01    AMC  14.56\n",
      "2022-08-01    AMC   9.12\n",
      "2022-09-01    AMC   6.97\n",
      "           ticker  close\n",
      "2022-07-01     CS   5.80\n",
      "2022-08-01     CS   5.16\n",
      "2022-09-01     CS   3.92\n",
      "           ticker       close\n",
      "2022-07-01   TSLA  297.149994\n",
      "2022-08-01   TSLA  275.609985\n",
      "2022-09-01   TSLA  265.250000\n",
      "           ticker       close\n",
      "2022-07-01     IT  265.480011\n",
      "2022-08-01     IT  285.320007\n",
      "2022-09-01     IT  276.690002\n",
      "           ticker       close\n",
      "2022-07-01   NVDA  181.630005\n",
      "2022-08-01   NVDA  150.940002\n",
      "2022-09-01   NVDA  121.389999\n",
      "           ticker      close\n",
      "2022-07-01     GM  36.259998\n",
      "2022-08-01     GM  38.209999\n",
      "2022-09-01     GM  32.090000\n",
      "           ticker      close\n",
      "2022-07-01    AMD  94.470001\n",
      "2022-08-01    AMD  84.870003\n",
      "2022-09-01    AMD  63.360001\n"
     ]
    }
   ],
   "source": [
    "# Get stock prices from 1-month back from yahoo finance to compare with our recommendations \n",
    "\n",
    "# !pip install yahoo_fin\n",
    "from yahoo_fin.stock_info import get_data, tickers_sp500, tickers_nasdaq, tickers_other, get_quote_table\n",
    "\n",
    "for ticker in ticker_freq[:top_n]['ticker'].tolist():\n",
    "  print(get_data(ticker, start_date = '07/01/2022' , end_date = '10/01/2022' , interval = '1mo')[['ticker', 'close']])"
   ]
  },
  {
   "cell_type": "markdown",
   "metadata": {
    "id": "t_3B2mc9LbG1"
   },
   "source": [
    "Out of the top-10 recommended stocks, we would have lost money only on C3.AI (AI) and Credit Suisse (CS) and made money on the remaining 8 stocks"
   ]
  }
 ],
 "metadata": {
  "kernelspec": {
   "display_name": "Python 3",
   "language": "python",
   "name": "python3"
  },
  "language_info": {
   "codemirror_mode": {
    "name": "ipython",
    "version": 3
   },
   "file_extension": ".py",
   "mimetype": "text/x-python",
   "name": "python",
   "nbconvert_exporter": "python",
   "pygments_lexer": "ipython3",
   "version": "3.7.6"
  }
 },
 "nbformat": 4,
 "nbformat_minor": 4
}
